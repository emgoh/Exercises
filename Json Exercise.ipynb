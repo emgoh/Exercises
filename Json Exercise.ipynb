{
 "cells": [
  {
   "cell_type": "code",
   "execution_count": 106,
   "metadata": {
    "collapsed": true
   },
   "outputs": [
    {
     "name": "stdout",
     "output_type": "stream",
     "text": [
      "<class 'pandas.core.frame.DataFrame'>\nRangeIndex: 1499 entries, 0 to 1498\nData columns (total 4 columns):\ncode                1499 non-null object\nname                1499 non-null object\ncountryshortname    1499 non-null object\n_id.$oid            1499 non-null object\ndtypes: object(4)\nmemory usage: 23.5+ KB\n"
     ]
    },
    {
     "data": {
      "text/html": [
       "<div>\n",
       "<style scoped>\n",
       "    .dataframe tbody tr th:only-of-type {\n",
       "        vertical-align: middle;\n",
       "    }\n",
       "\n",
       "    .dataframe tbody tr th {\n",
       "        vertical-align: top;\n",
       "    }\n",
       "\n",
       "    .dataframe thead th {\n",
       "        text-align: right;\n",
       "    }\n",
       "</style>\n",
       "<table border=\"1\" class=\"dataframe\">\n",
       "  <thead>\n",
       "    <tr style=\"text-align: right;\">\n",
       "      <th></th>\n",
       "      <th>code</th>\n",
       "      <th>name</th>\n",
       "      <th>countryshortname</th>\n",
       "      <th>_id.$oid</th>\n",
       "    </tr>\n",
       "  </thead>\n",
       "  <tbody>\n",
       "    <tr>\n",
       "      <th>0</th>\n",
       "      <td>8</td>\n",
       "      <td>Human development</td>\n",
       "      <td>Ethiopia</td>\n",
       "      <td>52b213b38594d8a2be17c780</td>\n",
       "    </tr>\n",
       "    <tr>\n",
       "      <th>1</th>\n",
       "      <td>11</td>\n",
       "      <td></td>\n",
       "      <td>Ethiopia</td>\n",
       "      <td>52b213b38594d8a2be17c780</td>\n",
       "    </tr>\n",
       "    <tr>\n",
       "      <th>2</th>\n",
       "      <td>1</td>\n",
       "      <td>Economic management</td>\n",
       "      <td>Tunisia</td>\n",
       "      <td>52b213b38594d8a2be17c781</td>\n",
       "    </tr>\n",
       "    <tr>\n",
       "      <th>3</th>\n",
       "      <td>6</td>\n",
       "      <td>Social protection and risk management</td>\n",
       "      <td>Tunisia</td>\n",
       "      <td>52b213b38594d8a2be17c781</td>\n",
       "    </tr>\n",
       "    <tr>\n",
       "      <th>4</th>\n",
       "      <td>5</td>\n",
       "      <td>Trade and integration</td>\n",
       "      <td>Tuvalu</td>\n",
       "      <td>52b213b38594d8a2be17c782</td>\n",
       "    </tr>\n",
       "  </tbody>\n",
       "</table>\n",
       "</div>"
      ],
      "text/plain": [
       "<div>\n",
       "<style scoped>\n",
       "    .dataframe tbody tr th:only-of-type {\n",
       "        vertical-align: middle;\n",
       "    }\n",
       "\n",
       "    .dataframe tbody tr th {\n",
       "        vertical-align: top;\n",
       "    }\n",
       "\n",
       "    .dataframe thead th {\n",
       "        text-align: right;\n",
       "    }\n",
       "</style>\n",
       "<table border=\"1\" class=\"dataframe\">\n",
       "  <thead>\n",
       "    <tr style=\"text-align: right;\">\n",
       "      <th></th>\n",
       "      <th>code</th>\n",
       "      <th>name</th>\n",
       "      <th>countryshortname</th>\n",
       "      <th>_id.$oid</th>\n",
       "    </tr>\n",
       "  </thead>\n",
       "  <tbody>\n",
       "    <tr>\n",
       "      <th>0</th>\n",
       "      <td>8</td>\n",
       "      <td>Human development</td>\n",
       "      <td>Ethiopia</td>\n",
       "      <td>52b213b38594d8a2be17c780</td>\n",
       "    </tr>\n",
       "    <tr>\n",
       "      <th>1</th>\n",
       "      <td>11</td>\n",
       "      <td></td>\n",
       "      <td>Ethiopia</td>\n",
       "      <td>52b213b38594d8a2be17c780</td>\n",
       "    </tr>\n",
       "    <tr>\n",
       "      <th>2</th>\n",
       "      <td>1</td>\n",
       "      <td>Economic management</td>\n",
       "      <td>Tunisia</td>\n",
       "      <td>52b213b38594d8a2be17c781</td>\n",
       "    </tr>\n",
       "    <tr>\n",
       "      <th>3</th>\n",
       "      <td>6</td>\n",
       "      <td>Social protection and risk management</td>\n",
       "      <td>Tunisia</td>\n",
       "      <td>52b213b38594d8a2be17c781</td>\n",
       "    </tr>\n",
       "    <tr>\n",
       "      <th>4</th>\n",
       "      <td>5</td>\n",
       "      <td>Trade and integration</td>\n",
       "      <td>Tuvalu</td>\n",
       "      <td>52b213b38594d8a2be17c782</td>\n",
       "    </tr>\n",
       "  </tbody>\n",
       "</table>\n",
       "</div>"
      ]
     },
     "execution_count": 106,
     "metadata": {},
     "output_type": "execute_result"
    }
   ],
   "source": [
    "import pandas as pd\n",
    "import numpy as np\n",
    "import json\n",
    "from pandas.io.json import json_normalize\n",
    "#reading in the world bank projects json file\n",
    "obj=json.load(open('world_bank_projects.json'))\n",
    "df=json_normalize(obj, 'mjtheme_namecode', ['countryshortname', ['_id','$oid']])\n",
    "df.info()\n",
    "df.head()"
   ]
  },
  {
   "cell_type": "code",
   "execution_count": 107,
   "metadata": {},
   "outputs": [
    {
     "data": {
      "text/plain": [
       "Indonesia                           56\nIndia                               51\nVietnam                             43\nBangladesh                          41\nBrazil                              41\nChina                               40\nAfrica                              39\nYemen, Republic of                  34\nMorocco                             32\nMozambique                          31\nNepal                               29\nTanzania                            28\nBurkina Faso                        26\nTajikistan                          25\nPakistan                            25\nLao People's Democratic Republic    24\nAfghanistan                         23\nKyrgyz Republic                     22\nArmenia                             22\nNigeria                             22\nNiger                               21\nPeru                                19\nHaiti                               19\nKenya                               18\nJordan                              18\nCongo, Democratic Republic of       18\nWest Bank and Gaza                  17\nNicaragua                           17\nUzbekistan                          16\nBurundi                             16\n                                    ..\nPanama                               5\nEurope and Central Asia              5\nTimor-Leste                          5\nKosovo                               5\nMarshall Islands                     5\nSierra Leone                         5\nEgypt, Arab Republic of              4\nCape Verde                           4\nGambia, The                          4\nJamaica                              4\nChile                                4\nNamibia                              4\nSri Lanka                            4\nAntigua and Barbuda                  4\nTonga                                4\nEcuador                              4\nTuvalu                               4\nEast Asia and Pacific                3\nSerbia                               3\nBosnia and Herzegovina               3\nZimbabwe                             3\nThailand                             3\nCosta Rica                           2\nCongo, Republic of                   2\nAngola                               2\nRomania                              2\nKiribati                             2\nBelarus                              2\nCentral African Republic             2\nChad                                 2\nName: countryshortname, Length: 118, dtype: int64"
      ]
     },
     "execution_count": 107,
     "metadata": {},
     "output_type": "execute_result"
    }
   ],
   "source": [
    "# get the list of top 10 countries that have the most project\n",
    "df.countryshortname.value_counts()"
   ]
  },
  {
   "cell_type": "code",
   "execution_count": 108,
   "metadata": {},
   "outputs": [
    {
     "data": {
      "text/plain": [
       "Environment and natural resources management    223\nRural development                               202\nHuman development                               197\nPublic sector governance                        184\nSocial protection and risk management           158\nFinancial and private sector development        130\n                                                122\nSocial dev/gender/inclusion                     119\nTrade and integration                            72\nUrban development                                47\nEconomic management                              33\nRule of law                                      12\nName: name, dtype: int64"
      ]
     },
     "execution_count": 108,
     "metadata": {},
     "output_type": "execute_result"
    }
   ],
   "source": [
    "# get the top 10 major project themes. \n",
    "df.name.value_counts()"
   ]
  },
  {
   "cell_type": "code",
   "execution_count": 109,
   "metadata": {},
   "outputs": [
    {
     "name": "stdout",
     "output_type": "stream",
     "text": [
      "     code                 name                        countryshortname  \\\n212     1                                                      Liberia   \n363     1                                                Cote d'Ivoire   \n1024    1                                                     Tanzania   \n1114    1                                                     Honduras   \n1437    1                                                    Guatemala   \n2       1  Economic management                                 Tunisia   \n88      1  Economic management                              Seychelles   \n175     1  Economic management                             Afghanistan   \n204     1  Economic management                         Kyrgyz Republic   \n205     1  Economic management                         Kyrgyz Republic   \n220     1  Economic management                                 Tunisia   \n222     1  Economic management                                  Jordan   \n223     1  Economic management                              Mozambique   \n249     1  Economic management                                 Armenia   \n357     1  Economic management                                  Poland   \n453     1  Economic management                                 Lesotho   \n454     1  Economic management                   Sao Tome and Principe   \n458     1  Economic management                   Sao Tome and Principe   \n497     1  Economic management                                  Malawi   \n647     1  Economic management        Lao People's Democratic Republic   \n648     1  Economic management        Lao People's Democratic Republic   \n784     1  Economic management                                Tanzania   \n803     1  Economic management                                  Panama   \n841     1  Economic management                                 Vietnam   \n900     1  Economic management                      Yemen, Republic of   \n1010    1  Economic management                                 Myanmar   \n1045    1  Economic management  Macedonia, former Yugoslav Republic of   \n1056    1  Economic management                              Azerbaijan   \n1057    1  Economic management                              Azerbaijan   \n1078    1  Economic management                                 Ukraine   \n...   ...                  ...                                     ...   \n597     9    Urban development           Congo, Democratic Republic of   \n598     9    Urban development           Congo, Democratic Republic of   \n650     9    Urban development                                 Vietnam   \n669     9    Urban development                              Mozambique   \n732     9    Urban development                                   China   \n737     9    Urban development                                  Uganda   \n738     9    Urban development                                  Uganda   \n739     9    Urban development                             South Sudan   \n742     9    Urban development                             South Sudan   \n822     9    Urban development                                   China   \n917     9    Urban development                                Thailand   \n930     9    Urban development                                  Rwanda   \n940     9    Urban development                                 Morocco   \n962     9    Urban development            Middle East and North Africa   \n1095    9    Urban development                                Honduras   \n1102    9    Urban development                                Colombia   \n1103    9    Urban development                                Colombia   \n1104    9    Urban development                                Colombia   \n1166    9    Urban development                      West Bank and Gaza   \n1290    9    Urban development                                Tanzania   \n1303    9    Urban development                                 Bolivia   \n1318    9    Urban development                                   Nepal   \n1342    9    Urban development                                  Africa   \n1347    9    Urban development                              Bangladesh   \n1425    9    Urban development                                Pakistan   \n1426    9    Urban development                                Pakistan   \n1428    9    Urban development                               Indonesia   \n1470    9    Urban development                        Papua New Guinea   \n1473    9    Urban development                        Papua New Guinea   \n1495    9    Urban development                                   Kenya   \n\n                      _id.$oid  \n212   52b213b38594d8a2be17c7ce  \n363   52b213b38594d8a2be17c802  \n1024  52b213b38594d8a2be17c8da  \n1114  52b213b38594d8a2be17c8f7  \n1437  52b213b38594d8a2be17c95f  \n2     52b213b38594d8a2be17c781  \n88    52b213b38594d8a2be17c7a1  \n175   52b213b38594d8a2be17c7c0  \n204   52b213b38594d8a2be17c7cb  \n205   52b213b38594d8a2be17c7cb  \n220   52b213b38594d8a2be17c7d1  \n222   52b213b38594d8a2be17c7d2  \n223   52b213b38594d8a2be17c7d3  \n249   52b213b38594d8a2be17c7de  \n357   52b213b38594d8a2be17c801  \n453   52b213b38594d8a2be17c81e  \n454   52b213b38594d8a2be17c81f  \n458   52b213b38594d8a2be17c81f  \n497   52b213b38594d8a2be17c82d  \n647   52b213b38594d8a2be17c85c  \n648   52b213b38594d8a2be17c85c  \n784   52b213b38594d8a2be17c889  \n803   52b213b38594d8a2be17c88e  \n841   52b213b38594d8a2be17c89a  \n900   52b213b38594d8a2be17c8ad  \n1010  52b213b38594d8a2be17c8d4  \n1045  52b213b38594d8a2be17c8e0  \n1056  52b213b38594d8a2be17c8e5  \n1057  52b213b38594d8a2be17c8e5  \n1078  52b213b38594d8a2be17c8eb  \n...                        ...  \n597   52b213b38594d8a2be17c84d  \n598   52b213b38594d8a2be17c84d  \n650   52b213b38594d8a2be17c85d  \n669   52b213b38594d8a2be17c865  \n732   52b213b38594d8a2be17c87a  \n737   52b213b38594d8a2be17c87c  \n738   52b213b38594d8a2be17c87c  \n739   52b213b38594d8a2be17c87d  \n742   52b213b38594d8a2be17c87d  \n822   52b213b38594d8a2be17c893  \n917   52b213b38594d8a2be17c8b3  \n930   52b213b38594d8a2be17c8b9  \n940   52b213b38594d8a2be17c8bc  \n962   52b213b38594d8a2be17c8c2  \n1095  52b213b38594d8a2be17c8f2  \n1102  52b213b38594d8a2be17c8f4  \n1103  52b213b38594d8a2be17c8f4  \n1104  52b213b38594d8a2be17c8f4  \n1166  52b213b38594d8a2be17c905  \n1290  52b213b38594d8a2be17c930  \n1303  52b213b38594d8a2be17c933  \n1318  52b213b38594d8a2be17c938  \n1342  52b213b38594d8a2be17c941  \n1347  52b213b38594d8a2be17c942  \n1425  52b213b38594d8a2be17c95a  \n1426  52b213b38594d8a2be17c95a  \n1428  52b213b38594d8a2be17c95b  \n1470  52b213b38594d8a2be17c969  \n1473  52b213b38594d8a2be17c969  \n1495  52b213b38594d8a2be17c973  \n\n[1499 rows x 4 columns]\n"
     ]
    }
   ],
   "source": [
    "#sort the code to check if we should back fill or forward fill\n",
    "newdf=df.sort_values(by=['code','name'],na_position='first')\n",
    "print(newdf)"
   ]
  },
  {
   "cell_type": "code",
   "execution_count": 118,
   "metadata": {},
   "outputs": [],
   "source": [
    "#now, replace any empty spaces with nan\n",
    "df_replace=newdf.replace(u'', np.nan, regex=True)\n",
    "#backfilling any nans\n",
    "df_filled=df_replace.fillna(method='backfill')"
   ]
  },
  {
   "cell_type": "code",
   "execution_count": 117,
   "metadata": {},
   "outputs": [
    {
     "data": {
      "text/plain": [
       "Environment and natural resources management    250\nRural development                               216\nHuman development                               210\nPublic sector governance                        199\nSocial protection and risk management           168\nFinancial and private sector development        146\nSocial dev/gender/inclusion                     130\nTrade and integration                            77\nUrban development                                50\nEconomic management                              38\nRule of law                                      15\nName: name, dtype: int64"
      ]
     },
     "execution_count": 117,
     "metadata": {},
     "output_type": "execute_result"
    }
   ],
   "source": [
    "#redo to check if the NAN is now gone\n",
    "df_filled.name.value_counts()"
   ]
  },
  {
   "cell_type": "code",
   "execution_count": null,
   "metadata": {},
   "outputs": [],
   "source": [
    ""
   ]
  }
 ],
 "metadata": {
  "kernelspec": {
   "display_name": "Python 2",
   "language": "python",
   "name": "python2"
  },
  "language_info": {
   "codemirror_mode": {
    "name": "ipython",
    "version": 2
   },
   "file_extension": ".py",
   "mimetype": "text/x-python",
   "name": "python",
   "nbconvert_exporter": "python",
   "pygments_lexer": "ipython2",
   "version": "2.7.6"
  }
 },
 "nbformat": 4,
 "nbformat_minor": 0
}
